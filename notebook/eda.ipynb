{
 "cells": [
  {
   "cell_type": "markdown",
   "id": "useful-circle",
   "metadata": {},
   "source": [
    "# Exploritory Data Analysis\n",
    "\n",
    "Explore data and try to preprocess it\n"
   ]
  },
  {
   "cell_type": "code",
   "execution_count": 11,
   "id": "statutory-advancement",
   "metadata": {},
   "outputs": [],
   "source": [
    "# import modules\n",
    "import matplotlib as plt\n",
    "import numpy as np\n",
    "import pandas as pd\n",
    "import csv\n"
   ]
  }
 ],
 "metadata": {
  "kernelspec": {
   "display_name": "Python 3",
   "language": "python",
   "name": "python3"
  },
  "language_info": {
   "codemirror_mode": {
    "name": "ipython",
    "version": 3
   },
   "file_extension": ".py",
   "mimetype": "text/x-python",
   "name": "python",
   "nbconvert_exporter": "python",
   "pygments_lexer": "ipython3",
   "version": "3.9.1"
  }
 },
 "nbformat": 4,
 "nbformat_minor": 5
}
